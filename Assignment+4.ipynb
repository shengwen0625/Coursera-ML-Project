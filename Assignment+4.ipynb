{
 "cells": [
  {
   "cell_type": "markdown",
   "metadata": {
    "deletable": true,
    "editable": true
   },
   "source": [
    "---\n",
    "\n",
    "_You are currently looking at **version 1.0** of this notebook. To download notebooks and datafiles, as well as get help on Jupyter notebooks in the Coursera platform, visit the [Jupyter Notebook FAQ](https://www.coursera.org/learn/python-machine-learning/resources/bANLa) course resource._\n",
    "\n",
    "---"
   ]
  },
  {
   "cell_type": "markdown",
   "metadata": {
    "deletable": true,
    "editable": true
   },
   "source": [
    "# Assignment 4 - Understanding and Predicting Property Maintenance Fines\n",
    "\n",
    "This assignment is based on a data challenge from the Michigan Data Science Team ([MDST](http://midas.umich.edu/mdst/)). \n",
    "\n",
    "The Michigan Data Science Team ([MDST](http://midas.umich.edu/mdst/)) and the Michigan Student Symposium for Interdisciplinary Statistical Sciences ([MSSISS](https://sites.lsa.umich.edu/mssiss/)) have partnered with the City of Detroit to help solve one of the most pressing problems facing Detroit - blight. [Blight violations](http://www.detroitmi.gov/How-Do-I/Report/Blight-Complaint-FAQs) are issued by the city to individuals who allow their properties to remain in a deteriorated condition. Every year, the city of Detroit issues millions of dollars in fines to residents and every year, many of these fines remain unpaid. Enforcing unpaid blight fines is a costly and tedious process, so the city wants to know: how can we increase blight ticket compliance?\n",
    "\n",
    "The first step in answering this question is understanding when and why a resident might fail to comply with a blight ticket. This is where predictive modeling comes in. For this assignment, your task is to predict whether a given blight ticket will be paid on time.\n",
    "\n",
    "All data for this assignment has been provided to us through the [Detroit Open Data Portal](https://data.detroitmi.gov/). **Only the data already included in your Coursera directory can be used for training the model for this assignment.** Nonetheless, we encourage you to look into data from other Detroit datasets to help inform feature creation and model selection. We recommend taking a look at the following related datasets:\n",
    "\n",
    "* [Building Permits](https://data.detroitmi.gov/Property-Parcels/Building-Permits/xw2a-a7tf)\n",
    "* [Trades Permits](https://data.detroitmi.gov/Property-Parcels/Trades-Permits/635b-dsgv)\n",
    "* [Improve Detroit: Submitted Issues](https://data.detroitmi.gov/Government/Improve-Detroit-Submitted-Issues/fwz3-w3yn)\n",
    "* [DPD: Citizen Complaints](https://data.detroitmi.gov/Public-Safety/DPD-Citizen-Complaints-2016/kahe-efs3)\n",
    "* [Parcel Map](https://data.detroitmi.gov/Property-Parcels/Parcel-Map/fxkw-udwf)\n",
    "\n",
    "___\n",
    "\n",
    "We provide you with two data files for use in training and validating your models: train.csv and test.csv. Each row in these two files corresponds to a single blight ticket, and includes information about when, why, and to whom each ticket was issued. The target variable is compliance, which is True if the ticket was paid early, on time, or within one month of the hearing data, False if the ticket was paid after the hearing date or not at all, and Null if the violator was found not responsible. Compliance, as well as a handful of other variables that will not be available at test-time, are only included in train.csv.\n",
    "\n",
    "Note: All tickets where the violators were found not responsible are not considered during evaluation. They are included in the training set as an additional source of data for visualization, and to enable unsupervised and semi-supervised approaches. However, they are not included in the test set.\n",
    "\n",
    "<br>\n",
    "\n",
    "**File descriptions** (Use only this data for training your model!)\n",
    "\n",
    "    train.csv - the training set (all tickets issued 2004-2011)\n",
    "    test.csv - the test set (all tickets issued 2012-2016)\n",
    "    addresses.csv & latlons.csv - mapping from ticket id to addresses, and from addresses to lat/lon coordinates. \n",
    "     Note: misspelled addresses may be incorrectly geolocated.\n",
    "\n",
    "<br>\n",
    "\n",
    "**Data fields**\n",
    "\n",
    "train.csv & test.csv\n",
    "\n",
    "    ticket_id - unique identifier for tickets\n",
    "    agency_name - Agency that issued the ticket\n",
    "    inspector_name - Name of inspector that issued the ticket\n",
    "    violator_name - Name of the person/organization that the ticket was issued to\n",
    "    violation_street_number, violation_street_name, violation_zip_code - Address where the violation occurred\n",
    "    mailing_address_str_number, mailing_address_str_name, city, state, zip_code, non_us_str_code, country - Mailing address of the violator\n",
    "    ticket_issued_date - Date and time the ticket was issued\n",
    "    hearing_date - Date and time the violator's hearing was scheduled\n",
    "    violation_code, violation_description - Type of violation\n",
    "    disposition - Judgment and judgement type\n",
    "    fine_amount - Violation fine amount, excluding fees\n",
    "    admin_fee - $20 fee assigned to responsible judgments\n",
    "state_fee - $10 fee assigned to responsible judgments\n",
    "    late_fee - 10% fee assigned to responsible judgments\n",
    "    discount_amount - discount applied, if any\n",
    "    clean_up_cost - DPW clean-up or graffiti removal cost\n",
    "    judgment_amount - Sum of all fines and fees\n",
    "    grafitti_status - Flag for graffiti violations\n",
    "    \n",
    "train.csv only\n",
    "\n",
    "    payment_amount - Amount paid, if any\n",
    "    payment_date - Date payment was made, if it was received\n",
    "    payment_status - Current payment status as of Feb 1 2017\n",
    "    balance_due - Fines and fees still owed\n",
    "    collection_status - Flag for payments in collections\n",
    "    compliance [target variable for prediction] \n",
    "     Null = Not responsible\n",
    "     0 = Responsible, non-compliant\n",
    "     1 = Responsible, compliant\n",
    "    compliance_detail - More information on why each ticket was marked compliant or non-compliant\n",
    "\n",
    "\n",
    "___\n",
    "\n",
    "## Evaluation\n",
    "\n",
    "Your predictions will be given as the probability that the corresponding blight ticket will be paid on time.\n",
    "\n",
    "The evaluation metric for this assignment is the Area Under the ROC Curve (AUC). \n",
    "\n",
    "Your grade will be based on the AUC score computed for your classifier. A model which with an AUROC of 0.7 passes this assignment, over 0.75 will recieve full points.\n",
    "___\n",
    "\n",
    "For this assignment, create a function that trains a model to predict blight ticket compliance in Detroit using `train.csv`. Using this model, return a series of length 61001 with the data being the probability that each corresponding ticket from `test.csv` will be paid, and the index being the ticket_id.\n",
    "\n",
    "Example:\n",
    "\n",
    "    ticket_id\n",
    "       284932    0.531842\n",
    "       285362    0.401958\n",
    "       285361    0.105928\n",
    "       285338    0.018572\n",
    "                 ...\n",
    "       376499    0.208567\n",
    "       376500    0.818759\n",
    "       369851    0.018528\n",
    "       Name: compliance, dtype: float32"
   ]
  },
  {
   "cell_type": "code",
   "execution_count": 1,
   "metadata": {
    "collapsed": false,
    "deletable": true,
    "editable": true
   },
   "outputs": [
    {
     "name": "stderr",
     "output_type": "stream",
     "text": [
      "/opt/conda/lib/python3.5/site-packages/IPython/core/interactiveshell.py:2717: DtypeWarning: Columns (11,12,31) have mixed types. Specify dtype option on import or set low_memory=False.\n",
      "  interactivity=interactivity, compiler=compiler, result=result)\n"
     ]
    }
   ],
   "source": [
    "import pandas as pd\n",
    "import numpy as np\n",
    "address = pd.read_csv('addresses.csv')\n",
    "latlons = pd.read_csv('latlons.csv')\n",
    "train = pd.read_csv('train.csv',encoding = \"ISO-8859-1\")\n",
    "train = train[(train['compliance'] == 0) | (train['compliance'] == 1)]\n",
    "df_train = pd.merge(train, address,how = 'left', on = 'ticket_id')\n",
    "df_train = pd.merge(df_train, latlons,how = 'left', on = 'address')\n",
    "df_train = df_train.set_index('ticket_id')\n",
    "df_train = df_train.fillna(method = 'pad')\n",
    "test = pd.read_csv('test.csv')\n",
    "df_test = pd.merge(test, address,how = 'left', on = 'ticket_id')\n",
    "df_test = pd.merge(df_test, latlons,how = 'left', on = 'address')\n",
    "df_test = df_test.set_index('ticket_id')\n",
    "df_test = df_test.fillna(method = 'pad')\n",
    "y_train = df_train['compliance']\n"
   ]
  },
  {
   "cell_type": "code",
   "execution_count": 4,
   "metadata": {
    "collapsed": false,
    "deletable": true,
    "editable": true
   },
   "outputs": [],
   "source": [
    "features = ['disposition','fine_amount','admin_fee','state_fee','late_fee','discount_amount','clean_up_cost', \\\n",
    "            'judgment_amount', 'lat', 'lon']\n",
    "X_train = df_train[features].fillna(method = 'pad')\n",
    "X_test = df_test[features].fillna(method = 'pad')\n",
    "X_train = pd.get_dummies(X_train,columns= ['disposition'])\n",
    "X_test = pd.get_dummies(X_test,columns = ['disposition'])\n",
    "train_col = list(X_train.columns)\n",
    "test_col = list(X_test.columns)\n",
    "for col in train_col:\n",
    "    if col not in test_col:\n",
    "        train_col.remove(col)\n",
    "X_train = X_train[train_col]\n",
    "X_test = X_test[train_col]\n"
   ]
  },
  {
   "cell_type": "code",
   "execution_count": 72,
   "metadata": {
    "collapsed": false,
    "deletable": true,
    "editable": true
   },
   "outputs": [
    {
     "data": {
      "text/plain": [
       "(61001, 13)"
      ]
     },
     "execution_count": 72,
     "metadata": {},
     "output_type": "execute_result"
    }
   ],
   "source": [
    "from sklearn.preprocessing import MinMaxScaler\n",
    "scaler = MinMaxScaler()\n",
    "X_train_scale = scaler.fit_transform(X_train)\n",
    "X_test_scale = scaler.fit_transform(X_test)\n"
   ]
  },
  {
   "cell_type": "code",
   "execution_count": 76,
   "metadata": {
    "collapsed": false,
    "deletable": true,
    "editable": true
   },
   "outputs": [
    {
     "data": {
      "text/plain": [
       "0.50730901786198135"
      ]
     },
     "execution_count": 76,
     "metadata": {},
     "output_type": "execute_result"
    }
   ],
   "source": [
    "#from sklearn.svm import SVC\n",
    "#from sklearn.metrics import roc_curve, auc\n",
    "#svc = SVC().fit(X_train_scale,y_train)\n",
    "#y_score = svc.decision_function(X_train_scale)\n",
    "#fpr_svc, tpr_svc,thresholds_svc = roc_curve(y_train, y_score)\n",
    "#roc_auc_svc = auc(fpr_svc, tpr_svc)\n",
    "#roc_auc_svc"
   ]
  },
  {
   "cell_type": "code",
   "execution_count": 51,
   "metadata": {
    "collapsed": false,
    "deletable": true,
    "editable": true
   },
   "outputs": [
    {
     "data": {
      "text/plain": [
       "0.99910624966196737"
      ]
     },
     "execution_count": 51,
     "metadata": {},
     "output_type": "execute_result"
    }
   ],
   "source": [
    "#from sklearn.tree import DecisionTreeClassifier\n",
    "#from sklearn.metrics import roc_curve, auc\n",
    "#dt = DecisionTreeClassifier().fit(X_train,y_train)\n",
    "#y_prob_tree = dt.predict_proba(X_train)\n",
    "#y_prob_tree = [x[1] for x in y_prob_tree]\n",
    "#fpr_tree, tpr_tree, thresholds_tree = roc_curve(y_train, y_prob_tree)\n",
    "#roc_auc_tree = auc(fpr_tree, tpr_tree)\n",
    "#roc_auc_tree"
   ]
  },
  {
   "cell_type": "code",
   "execution_count": 75,
   "metadata": {
    "collapsed": false,
    "deletable": true,
    "editable": true
   },
   "outputs": [
    {
     "data": {
      "text/plain": [
       "ticket_id\n",
       "284932    0.001283\n",
       "285362    0.000486\n",
       "285361    0.001112\n",
       "285338    0.009835\n",
       "285346    0.013184\n",
       "285345    0.010074\n",
       "285347    0.015077\n",
       "285342    0.238169\n",
       "285530    0.009228\n",
       "284989    0.002915\n",
       "285344    0.013405\n",
       "285343    0.003003\n",
       "285340    0.003388\n",
       "285341    0.015079\n",
       "285349    0.013291\n",
       "285348    0.010156\n",
       "284991    0.002914\n",
       "285532    0.015995\n",
       "285406    0.000986\n",
       "285001    0.004287\n",
       "285006    0.002408\n",
       "285405    0.000482\n",
       "285337    0.000570\n",
       "285496    0.002689\n",
       "285497    0.002062\n",
       "285378    0.000418\n",
       "285589    0.000729\n",
       "285585    0.001211\n",
       "285501    0.002646\n",
       "285581    0.000406\n",
       "            ...   \n",
       "376367    0.000766\n",
       "376366    0.001299\n",
       "376362    0.006764\n",
       "376363    0.007922\n",
       "376365    0.000766\n",
       "376364    0.001299\n",
       "376228    0.004294\n",
       "376265    0.001468\n",
       "376286    0.020087\n",
       "376320    0.003034\n",
       "376314    0.002446\n",
       "376327    0.102448\n",
       "376385    0.041499\n",
       "376435    0.293212\n",
       "376370    0.172678\n",
       "376434    0.001009\n",
       "376459    0.004044\n",
       "376478    0.000208\n",
       "376473    0.002637\n",
       "376484    0.003981\n",
       "376482    0.000561\n",
       "376480    0.000561\n",
       "376479    0.000561\n",
       "376481    0.000561\n",
       "376483    0.000741\n",
       "376496    0.001015\n",
       "376497    0.001015\n",
       "376499    0.001473\n",
       "376500    0.001471\n",
       "369851    0.006694\n",
       "Name: compliance, dtype: float64"
      ]
     },
     "execution_count": 75,
     "metadata": {},
     "output_type": "execute_result"
    }
   ],
   "source": [
    "def blight_model():\n",
    "    from sklearn.tree import DecisionTreeClassifier\n",
    "    from sklearn.neural_network import MLPClassifier\n",
    "    clf = MLPClassifier(hidden_layer_sizes =100, alpha = 5, random_state = 0, solver='lbfgs', verbose=0)\n",
    "    clf.fit(X_train_scale, y_train)\n",
    "    y_prob_tree = clf.predict_proba(X_test_scale)\n",
    "    X_test['compliance'] = y_prob_tree[:,1]\n",
    "    return X_test['compliance']\n",
    "blight_model()"
   ]
  },
  {
   "cell_type": "code",
   "execution_count": null,
   "metadata": {
    "collapsed": true,
    "deletable": true,
    "editable": true
   },
   "outputs": [],
   "source": []
  }
 ],
 "metadata": {
  "coursera": {
   "course_slug": "python-machine-learning",
   "graded_item_id": "nNS8l",
   "launcher_item_id": "yWWk7",
   "part_id": "w8BSS"
  },
  "kernelspec": {
   "display_name": "Python 3",
   "language": "python",
   "name": "python3"
  },
  "language_info": {
   "codemirror_mode": {
    "name": "ipython",
    "version": 3
   },
   "file_extension": ".py",
   "mimetype": "text/x-python",
   "name": "python",
   "nbconvert_exporter": "python",
   "pygments_lexer": "ipython3",
   "version": "3.5.2"
  }
 },
 "nbformat": 4,
 "nbformat_minor": 2
}
